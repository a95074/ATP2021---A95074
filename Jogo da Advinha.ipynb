{
 "cells": [
  {
   "cell_type": "markdown",
   "id": "1de7fa08",
   "metadata": {},
   "source": [
    "### Jogo \"Adivinha o Número\"\n",
    "**Keyname**: TPC 2  \n",
    "**Título**: Adivinha o Número   \n",
    "**Data de início:** 2020/10/14   \n",
    "**Data de fim:** 2020/10/21  \n",
    "**Supervisor:** [José Carlos Leite Ramalho](https://algoritmi.uminho.pt/user/jose-carlos-leite-ramalho/)  \n",
    "**Autor:** Maria Inês Maia Marques Eusébio , A95074  \n",
    "**Resumo:** O jogo tem como objetivo tentar advinhar o número inteiro de 0 a 100 que o jogador irá pensar através das indicações *cima* ou *baixo*."
   ]
  },
  {
   "cell_type": "code",
   "execution_count": null,
   "id": "aa86294e",
   "metadata": {},
   "outputs": [],
   "source": [
    "def adivinha_numero():\n",
    "    n_pos=range(0,101)\n",
    "    n_jogadas=0\n",
    "    print(\"Escolha um número inteiro de 0 a 100.\")\n",
    "    \n",
    "    while n_jogadas<8:\n",
    "        n=round(len(n_pos)/2)\n",
    "        resposta=input(\"O número é \" + (str(n_pos[n])) + \" ? sim, cima, baixo\")\n",
    "        \n",
    "        if resposta==\"sim\":\n",
    "            print(\"O seu número é \"+ str(n_pos[n]))\n",
    "            break\n",
    "            \n",
    "        elif resposta==\"cima\":\n",
    "            n_pos= n_pos[n:n_pos[-1]]\n",
    "            n_jogadas+=1\n",
    "        \n",
    "        elif resposta==\"baixo\":\n",
    "            n_pos=n_pos[0:n]\n",
    "            n_jogadas+=1\n",
    "            \n",
    "        else:\n",
    "            print(\"O que foi inserido não é válido.\")\n",
    "    \n",
    "adivinha_numero()\n",
    "            \n",
    "            \n",
    "            "
   ]
  },
  {
   "cell_type": "code",
   "execution_count": null,
   "id": "09169cc7",
   "metadata": {},
   "outputs": [],
   "source": []
  }
 ],
 "metadata": {
  "kernelspec": {
   "display_name": "Python 3",
   "language": "python",
   "name": "python3"
  },
  "language_info": {
   "codemirror_mode": {
    "name": "ipython",
    "version": 3
   },
   "file_extension": ".py",
   "mimetype": "text/x-python",
   "name": "python",
   "nbconvert_exporter": "python",
   "pygments_lexer": "ipython3",
   "version": "3.8.8"
  }
 },
 "nbformat": 4,
 "nbformat_minor": 5
}
