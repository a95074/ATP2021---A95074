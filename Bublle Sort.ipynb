{
 "cells": [
  {
   "cell_type": "markdown",
   "id": "a8ad9092",
   "metadata": {},
   "source": [
    "# __Bubble Sort__\n",
    "\n",
    "**Keyname**: TPC 3  \n",
    "**Título**: \"Bubble Sort\"\n",
    "**Data de início:** 2020/10/21  \n",
    "**Data de fim:** 2020/10/28  \n",
    "**Supervisor:** [José Carlos Leite Ramalho](https://algoritmi.uminho.pt/user/jose-carlos-leite-ramalho/)  \n",
    "**Autor:** Maria Inês Maia Marques Eusébio , A95074\n",
    "\n",
    "**Resumo:** Este trabalho tem como objetivo através de um conjunto de funções gerar uma lista aleatória, determinar o maior elemento da lista e por fim, organizar a lista de forma crescente. Para além disso, este programa está escrito em python\n"
   ]
  },
  {
   "cell_type": "code",
   "execution_count": 1,
   "id": "bba14207",
   "metadata": {},
   "outputs": [
    {
     "name": "stdout",
     "output_type": "stream",
     "text": [
      "Introduza o número de elementos que quer que a lista tenha: 4\n",
      "Esta é a lista de valores desordenada:  [59, 75, 28, 2]\n",
      "[59, 28, 75, 2]\n",
      "[59, 28, 2, 75]\n",
      "[28, 59, 2, 75]\n",
      "[28, 2, 59, 75]\n",
      "[2, 28, 59, 75]\n",
      "Esta é a lista ordenada:  [2, 28, 59, 75]\n"
     ]
    }
   ],
   "source": [
    "from random import randint\n",
    "def bubblesort():\n",
    "    n = int(input('Introduza o número de elementos que quer que a lista tenha: '))\n",
    "    lista=[]\n",
    "    for i in range (n):\n",
    "        elem = randint(0,100)\n",
    "        lista.append (elem)\n",
    "    print ('Esta é a lista de valores desordenada: ',lista)\n",
    "    \n",
    "    for j in range(len(lista)):\n",
    "        troca=False\n",
    "        j=0\n",
    "        while j<(len(lista)-1):\n",
    "            if lista[j] > lista[j+1]:\n",
    "                lista[j],lista[j+1] = lista[j+1],lista[j]\n",
    "                print(lista)\n",
    "                troca=True\n",
    "            j=j+1\n",
    "        if troca == False:\n",
    "                break\n",
    "    print('Esta é a lista ordenada: ',lista)\n",
    "        \n",
    "        \n",
    "        \n",
    "\n",
    "bubblesort()"
   ]
  }
 ],
 "metadata": {
  "kernelspec": {
   "display_name": "Python 3",
   "language": "python",
   "name": "python3"
  },
  "language_info": {
   "codemirror_mode": {
    "name": "ipython",
    "version": 3
   },
   "file_extension": ".py",
   "mimetype": "text/x-python",
   "name": "python",
   "nbconvert_exporter": "python",
   "pygments_lexer": "ipython3",
   "version": "3.8.8"
  }
 },
 "nbformat": 4,
 "nbformat_minor": 5
}
